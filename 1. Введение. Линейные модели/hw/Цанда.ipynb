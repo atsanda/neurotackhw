{
 "cells": [
  {
   "cell_type": "code",
   "execution_count": 1,
   "metadata": {},
   "outputs": [],
   "source": [
    "import pickle\n",
    "import numpy as np\n",
    "import PIL.Image\n",
    "import itertools\n",
    "from IPython.core.display import Image, display\n",
    "import scipy.ndimage\n",
    "import random\n",
    "import numpy as np\n",
    "import matplotlib.pylab as plt\n",
    "import tqdm\n",
    "import math\n",
    "%matplotlib inline\n",
    "\n",
    "np.random.seed(42)"
   ]
  },
  {
   "cell_type": "markdown",
   "metadata": {
    "collapsed": true
   },
   "source": [
    "# Загружаем датасет"
   ]
  },
  {
   "cell_type": "code",
   "execution_count": 2,
   "metadata": {},
   "outputs": [],
   "source": [
    "with open('./hw_1_train.pickle', 'rb') as f:\n",
    "    train = pickle.load(f)\n",
    "\n",
    "with open('./hw_1_test_no_lables.pickle', 'rb') as f:\n",
    "    test_no_lables = pickle.load(f)"
   ]
  },
  {
   "cell_type": "code",
   "execution_count": 3,
   "metadata": {
    "scrolled": true
   },
   "outputs": [
    {
     "data": {
      "text/plain": [
       "<matplotlib.image.AxesImage at 0x1d825fd42b0>"
      ]
     },
     "execution_count": 3,
     "metadata": {},
     "output_type": "execute_result"
    },
    {
     "data": {
      "image/png": "[encoded data removed]",
      "text/plain": [
       "<Figure size 432x288 with 1 Axes>"
      ]
     },
     "metadata": {
      "needs_background": "light"
     },
     "output_type": "display_data"
    }
   ],
   "source": [
    "# Пример, как можно визуализировать данные\n",
    "plt.imshow(train['data'][0].reshape(28,28))"
   ]
  },
  {
   "cell_type": "markdown",
   "metadata": {},
   "source": [
    "# Перпроцессинг"
   ]
  },
  {
   "cell_type": "code",
   "execution_count": 4,
   "metadata": {},
   "outputs": [],
   "source": [
    "X_train, y_train = train['data'], train['labels']\n",
    "X_test = test_no_lables['data']"
   ]
  },
  {
   "cell_type": "code",
   "execution_count": 5,
   "metadata": {},
   "outputs": [
    {
     "data": {
      "image/png": "[encoded data removed]",
      "text/plain": [
       "<Figure size 432x288 with 1 Axes>"
      ]
     },
     "metadata": {
      "needs_background": "light"
     },
     "output_type": "display_data"
    }
   ],
   "source": [
    "plt.title('Распределение классов')\n",
    "_ = plt.hist(y_train)"
   ]
  },
  {
   "cell_type": "markdown",
   "metadata": {},
   "source": [
    "Преобразуем y в множество ${-1, 1}$"
   ]
  },
  {
   "cell_type": "code",
   "execution_count": 6,
   "metadata": {},
   "outputs": [],
   "source": [
    "encode_rule = {5: -1, 6: 1}"
   ]
  },
  {
   "cell_type": "code",
   "execution_count": 7,
   "metadata": {},
   "outputs": [],
   "source": [
    "for k in encode_rule:\n",
    "    y_train[y_train == k] = encode_rule[k]"
   ]
  },
  {
   "cell_type": "code",
   "execution_count": 8,
   "metadata": {},
   "outputs": [
    {
     "data": {
      "text/plain": [
       "array([-1.,  1.])"
      ]
     },
     "execution_count": 8,
     "metadata": {},
     "output_type": "execute_result"
    }
   ],
   "source": [
    "np.unique(y_train)"
   ]
  },
  {
   "cell_type": "code",
   "execution_count": 9,
   "metadata": {},
   "outputs": [],
   "source": [
    "X_train, X_test = X_train/255., X_test/255."
   ]
  },
  {
   "cell_type": "code",
   "execution_count": 10,
   "metadata": {},
   "outputs": [],
   "source": [
    "X_train = np.hstack([X_train, np.ones((len(X_train), 1))])\n",
    "X_test = np.hstack([X_test, np.ones((len(X_test), 1))])"
   ]
  },
  {
   "cell_type": "markdown",
   "metadata": {},
   "source": [
    "# Обучаем модель"
   ]
  },
  {
   "cell_type": "markdown",
   "metadata": {},
   "source": [
    "Функция потерь \n",
    "$$\n",
    "\\large L(\\vec{x},\\vec{y},\\vec{w}) = \\sum_{i=1}^{\\ell} \\log (1 + \\exp^{-y_i\\vec{w}^T\\vec{x_i}})\n",
    "$$\n",
    "Градиент функции потерь:\n",
    "$$\n",
    "    \\nabla L = \\left\\{ - \\frac{y_i \\vec{x_i} }  { 1 + \\exp^{y_i\\vec{w}^T\\vec{x_i}} } + \\lambda \\vec{w} \\right\\} \n",
    "$$"
   ]
  },
  {
   "cell_type": "code",
   "execution_count": 11,
   "metadata": {},
   "outputs": [
    {
     "data": {
      "text/plain": [
       "[<matplotlib.lines.Line2D at 0x1d8260dac50>]"
      ]
     },
     "execution_count": 11,
     "metadata": {},
     "output_type": "execute_result"
    },
    {
     "data": {
      "image/png": "[encoded data removed]",
      "text/plain": [
       "<Figure size 432x288 with 1 Axes>"
      ]
     },
     "metadata": {
      "needs_background": "light"
     },
     "output_type": "display_data"
    }
   ],
   "source": [
    "def learning_rate(it):\n",
    "    return 1 / (1e2 + it / len(X_train)*10)\n",
    "\n",
    "plt.title('Зависимость шага от времени')\n",
    "plt.plot(np.arange(len(X_train)*30), learning_rate(np.arange(len(X_train)*30)))"
   ]
  },
  {
   "cell_type": "code",
   "execution_count": 12,
   "metadata": {},
   "outputs": [],
   "source": [
    "import inspect"
   ]
  },
  {
   "cell_type": "code",
   "execution_count": 13,
   "metadata": {},
   "outputs": [],
   "source": [
    "class LogisticReg:\n",
    "    \n",
    "    def __init__(self, lr=1e-3, nepochs=30, l2_reg=1e-2):\n",
    "        self.lr = lr\n",
    "        self.nepochs = nepochs\n",
    "        self.l2_reg = l2_reg\n",
    "        \n",
    "    def _loss(self, X, y, w):\n",
    "        return np.sum(np.log(1 + np.exp(-y*(X@w)))) / len(X) + self.l2_reg * np.sum(w**2)\n",
    "    \n",
    "    def _loss_grad(self, X, y, w):\n",
    "        return  - np.sum((y[:, np.newaxis] * X) / (1 + np.exp(y*(X@w)))[:, np.newaxis], axis=0)/len(X)  + 2*self.l2_reg*w \n",
    "    \n",
    "    def fit(self, X, y, w=None, callback=None):\n",
    "        if w is None:\n",
    "            self.w = np.random.randn(X.shape[1])\n",
    "        elif len(w) != X.shape[1]:\n",
    "            raise ValueError(\"Invalid w\")\n",
    "        else:\n",
    "            self.w = w\n",
    "        \n",
    "        prev_grad = None\n",
    "        global_iter = 0\n",
    "        for epoch in range(self.nepochs):\n",
    "            indxs = np.arange(len(X))\n",
    "            np.random.shuffle(indxs)\n",
    "            for i in indxs:\n",
    "            \n",
    "                err_i = self._loss(X[[i]], y[[i]], self.w)\n",
    "                grad = self._loss_grad(X[[i]], y[[i]], self.w)\n",
    "                \n",
    "                prev_grad = grad\n",
    "                \n",
    "                # lr reduction\n",
    "                if inspect.isfunction(self.lr):\n",
    "                    lr = self.lr(global_iter)\n",
    "                elif isinstance(self.lr, float) or isinstance(self.lr, int):\n",
    "                    lr = float(self.lr)\n",
    "                else:\n",
    "                    raise  ValueError('Invalid lr')\n",
    "                    \n",
    "                global_iter += 1\n",
    "\n",
    "                self.w -= grad * lr\n",
    "                \n",
    "            if callback:\n",
    "                callback(self, epoch)\n",
    "    \n",
    "    def predict_proba(self, X):\n",
    "        return 1 / (1 + np.exp(-X @ self.w))\n",
    "    \n",
    "    def predict(self, X, thres=.5):\n",
    "        pred = self.predict_proba(X)\n",
    "        pred[pred > thres] = 1\n",
    "        pred[pred <= thres] = -1\n",
    "        return pred"
   ]
  },
  {
   "cell_type": "code",
   "execution_count": 14,
   "metadata": {},
   "outputs": [],
   "source": [
    "def test_grad(m, h=1e-6):\n",
    "    X = np.random.randn(10, 2)\n",
    "    y = np.random.randint(2, size=10)*2 - 1\n",
    "    w = np.random.randn(2)\n",
    "    \n",
    "    comp_grad = np.zeros_like(w)\n",
    "    for i in range(comp_grad.size):\n",
    "        _h = np.zeros_like(w)\n",
    "        _h[i] = h\n",
    "        comp_grad[i] = (m._loss(X, y, w+_h) - m._loss(X, y, w-_h)) / (2*h)\n",
    "    \n",
    "    return np.allclose(m._loss_grad(X, y, w), comp_grad, h)"
   ]
  },
  {
   "cell_type": "code",
   "execution_count": 15,
   "metadata": {},
   "outputs": [
    {
     "data": {
      "text/plain": [
       "True"
      ]
     },
     "execution_count": 15,
     "metadata": {},
     "output_type": "execute_result"
    }
   ],
   "source": [
    "test_grad(LogisticReg())"
   ]
  },
  {
   "cell_type": "code",
   "execution_count": 16,
   "metadata": {},
   "outputs": [],
   "source": [
    "from sklearn.model_selection import KFold\n",
    "from sklearn.metrics import log_loss, accuracy_score"
   ]
  },
  {
   "cell_type": "code",
   "execution_count": 17,
   "metadata": {},
   "outputs": [],
   "source": [
    "class Callback:\n",
    "    \n",
    "    def __init__(self, X_train, y_train, X_test, y_test):\n",
    "        self.X_test = X_test\n",
    "        self.y_test = y_test\n",
    "        self.X_train = X_train\n",
    "        self.y_train = y_train\n",
    "        self.train_log_loss = []\n",
    "        self.test_log_loss = []\n",
    "        self.train_acc = []\n",
    "        self.test_acc = []\n",
    "        self.epochs = []\n",
    "    \n",
    "    def __call__(self, model, epoch):\n",
    "        self.epochs.append(epoch)\n",
    "        \n",
    "        pred_proba_test = model.predict_proba(self.X_test)\n",
    "        pred_proba_train = model.predict_proba(self.X_train)\n",
    "        self.train_log_loss.append(log_loss(self.y_train, pred_proba_train))\n",
    "        self.test_log_loss.append(log_loss(self.y_test, pred_proba_test))\n",
    "        \n",
    "        pred_test = model.predict(self.X_test)\n",
    "        pred_train = model.predict(self.X_train)\n",
    "        self.train_acc.append(accuracy_score(self.y_train, pred_train))\n",
    "        self.test_acc.append(accuracy_score(self.y_test, pred_test))\n",
    "        \n",
    "    def summary_plot(self):\n",
    "        print('Final log loss: ')\n",
    "        print('\\t train: ', self.train_log_loss[-1])\n",
    "        print('\\t  test: ', self.test_log_loss[-1])\n",
    "        print('Final accuracy: ')\n",
    "        print('\\t train: ', self.train_acc[-1])\n",
    "        print('\\t  test: ', self.test_acc[-1])\n",
    "        \n",
    "        plt.figure(figsize=(12, 4))\n",
    "\n",
    "        plt.subplot(121)\n",
    "        plt.title('Log loss')\n",
    "        plt.semilogy(self.epochs, self.test_log_loss, label='test')\n",
    "        plt.semilogy(self.epochs, self.train_log_loss, label='train')\n",
    "        plt.legend()\n",
    "\n",
    "        plt.subplot(122)\n",
    "        plt.title('Accuracy')\n",
    "        plt.semilogy(self.epochs, self.test_acc, label='test')\n",
    "        plt.semilogy(self.epochs, self.train_acc, label='train')\n",
    "        plt.legend()\n",
    "        \n",
    "        plt.show()\n",
    "        "
   ]
  },
  {
   "cell_type": "code",
   "execution_count": 18,
   "metadata": {},
   "outputs": [],
   "source": [
    "from sklearn.linear_model import LogisticRegressionCV"
   ]
  },
  {
   "cell_type": "code",
   "execution_count": 19,
   "metadata": {},
   "outputs": [
    {
     "name": "stderr",
     "output_type": "stream",
     "text": [
      "c:\\users\\artyom tsanda\\onedrive - phystech.edu\\курсы\\технотрек\\базовый курс по нейронным сетям\\env\\lib\\site-packages\\sklearn\\model_selection\\_split.py:2053: FutureWarning: You should specify a value for 'cv' instead of relying on the default value. The default value will change from 3 to 5 in version 0.22.\n",
      "  warnings.warn(CV_WARNING, FutureWarning)\n",
      "c:\\users\\artyom tsanda\\onedrive - phystech.edu\\курсы\\технотрек\\базовый курс по нейронным сетям\\env\\lib\\site-packages\\sklearn\\linear_model\\logistic.py:758: ConvergenceWarning: lbfgs failed to converge. Increase the number of iterations.\n",
      "  \"of iterations.\", ConvergenceWarning)\n",
      "c:\\users\\artyom tsanda\\onedrive - phystech.edu\\курсы\\технотрек\\базовый курс по нейронным сетям\\env\\lib\\site-packages\\sklearn\\linear_model\\logistic.py:758: ConvergenceWarning: lbfgs failed to converge. Increase the number of iterations.\n",
      "  \"of iterations.\", ConvergenceWarning)\n",
      "c:\\users\\artyom tsanda\\onedrive - phystech.edu\\курсы\\технотрек\\базовый курс по нейронным сетям\\env\\lib\\site-packages\\sklearn\\linear_model\\logistic.py:758: ConvergenceWarning: lbfgs failed to converge. Increase the number of iterations.\n",
      "  \"of iterations.\", ConvergenceWarning)\n",
      "c:\\users\\artyom tsanda\\onedrive - phystech.edu\\курсы\\технотрек\\базовый курс по нейронным сетям\\env\\lib\\site-packages\\sklearn\\linear_model\\logistic.py:758: ConvergenceWarning: lbfgs failed to converge. Increase the number of iterations.\n",
      "  \"of iterations.\", ConvergenceWarning)\n",
      "c:\\users\\artyom tsanda\\onedrive - phystech.edu\\курсы\\технотрек\\базовый курс по нейронным сетям\\env\\lib\\site-packages\\sklearn\\linear_model\\logistic.py:758: ConvergenceWarning: lbfgs failed to converge. Increase the number of iterations.\n",
      "  \"of iterations.\", ConvergenceWarning)\n",
      "c:\\users\\artyom tsanda\\onedrive - phystech.edu\\курсы\\технотрек\\базовый курс по нейронным сетям\\env\\lib\\site-packages\\sklearn\\linear_model\\logistic.py:758: ConvergenceWarning: lbfgs failed to converge. Increase the number of iterations.\n",
      "  \"of iterations.\", ConvergenceWarning)\n",
      "c:\\users\\artyom tsanda\\onedrive - phystech.edu\\курсы\\технотрек\\базовый курс по нейронным сетям\\env\\lib\\site-packages\\sklearn\\linear_model\\logistic.py:758: ConvergenceWarning: lbfgs failed to converge. Increase the number of iterations.\n",
      "  \"of iterations.\", ConvergenceWarning)\n",
      "c:\\users\\artyom tsanda\\onedrive - phystech.edu\\курсы\\технотрек\\базовый курс по нейронным сетям\\env\\lib\\site-packages\\sklearn\\linear_model\\logistic.py:758: ConvergenceWarning: lbfgs failed to converge. Increase the number of iterations.\n",
      "  \"of iterations.\", ConvergenceWarning)\n",
      "c:\\users\\artyom tsanda\\onedrive - phystech.edu\\курсы\\технотрек\\базовый курс по нейронным сетям\\env\\lib\\site-packages\\sklearn\\linear_model\\logistic.py:758: ConvergenceWarning: lbfgs failed to converge. Increase the number of iterations.\n",
      "  \"of iterations.\", ConvergenceWarning)\n",
      "c:\\users\\artyom tsanda\\onedrive - phystech.edu\\курсы\\технотрек\\базовый курс по нейронным сетям\\env\\lib\\site-packages\\sklearn\\linear_model\\logistic.py:758: ConvergenceWarning: lbfgs failed to converge. Increase the number of iterations.\n",
      "  \"of iterations.\", ConvergenceWarning)\n"
     ]
    }
   ],
   "source": [
    "clf = LogisticRegressionCV(5).fit(X_train, y_train)"
   ]
  },
  {
   "cell_type": "code",
   "execution_count": 20,
   "metadata": {},
   "outputs": [],
   "source": [
    "y_pred = clf.predict_proba(X_train)"
   ]
  },
  {
   "cell_type": "code",
   "execution_count": 21,
   "metadata": {},
   "outputs": [
    {
     "data": {
      "text/plain": [
       "0.030394247383224358"
      ]
     },
     "execution_count": 21,
     "metadata": {},
     "output_type": "execute_result"
    }
   ],
   "source": [
    "log_loss(y_train, y_pred)"
   ]
  },
  {
   "cell_type": "code",
   "execution_count": 27,
   "metadata": {},
   "outputs": [
    {
     "data": {
      "text/plain": [
       "<matplotlib.image.AxesImage at 0x1d82bd29588>"
      ]
     },
     "execution_count": 27,
     "metadata": {},
     "output_type": "execute_result"
    },
    {
     "data": {
      "image/png": "[encoded data removed]",
      "text/plain": [
       "<Figure size 432x288 with 1 Axes>"
      ]
     },
     "metadata": {
      "needs_background": "light"
     },
     "output_type": "display_data"
    }
   ],
   "source": [
    "plt.imshow(clf.coef_[:, :-1].reshape(28,28))"
   ]
  },
  {
   "cell_type": "code",
   "execution_count": 30,
   "metadata": {},
   "outputs": [
    {
     "data": {
      "text/plain": [
       "array([-2.82786223])"
      ]
     },
     "execution_count": 30,
     "metadata": {},
     "output_type": "execute_result"
    }
   ],
   "source": [
    "clf.intercept_"
   ]
  },
  {
   "cell_type": "code",
   "execution_count": 32,
   "metadata": {},
   "outputs": [
    {
     "data": {
      "text/plain": [
       "array([1.])"
      ]
     },
     "execution_count": 32,
     "metadata": {},
     "output_type": "execute_result"
    }
   ],
   "source": [
    "clf.C_"
   ]
  },
  {
   "cell_type": "code",
   "execution_count": null,
   "metadata": {
    "scrolled": false
   },
   "outputs": [
    {
     "data": {
      "application/vnd.jupyter.widget-view+json": {
       "model_id": "97869007fefc4798a8fbe4e2ff83eea9",
       "version_major": 2,
       "version_minor": 0
      },
      "text/plain": [
       "HBox(children=(IntProgress(value=0, max=5), HTML(value='')))"
      ]
     },
     "metadata": {},
     "output_type": "display_data"
    }
   ],
   "source": [
    "kf = KFold(n_splits=5)\n",
    "clbks = []\n",
    "\n",
    "parameters = {\n",
    "    'nepochs': 100, \n",
    "    'lr': 0.01, \n",
    "    'l2_reg': 1e-2\n",
    "}\n",
    "\n",
    "for epoch, (train_index, test_index) in tqdm.tqdm_notebook(enumerate(kf.split(X_train)), total=kf.get_n_splits()):\n",
    "    lr = LogisticReg(**parameters)\n",
    "    clbk = Callback(X_train[train_index], y_train[train_index], X_train[test_index], y_train[test_index])\n",
    "    lr.fit(X_train[train_index], y_train[train_index], callback=clbk)\n",
    "    print('FOLD #', epoch)\n",
    "    clbk.summary_plot()\n",
    "    clbks.append(clbk)"
   ]
  },
  {
   "cell_type": "code",
   "execution_count": 18,
   "metadata": {},
   "outputs": [],
   "source": [
    "lr = LogisticReg(**parameters)\n",
    "lr.fit(X_train, y_train)\n",
    "pred = lr.predict(X_test)"
   ]
  },
  {
   "cell_type": "code",
   "execution_count": 19,
   "metadata": {},
   "outputs": [
    {
     "data": {
      "text/plain": [
       "<matplotlib.image.AxesImage at 0x1dc1e8da320>"
      ]
     },
     "execution_count": 19,
     "metadata": {},
     "output_type": "execute_result"
    },
    {
     "data": {
      "image/png": "[encoded data removed]",
      "text/plain": [
       "<Figure size 432x288 with 1 Axes>"
      ]
     },
     "metadata": {
      "needs_background": "light"
     },
     "output_type": "display_data"
    }
   ],
   "source": [
    "plt.imshow(lr.w.reshape(28,28))"
   ]
  },
  {
   "cell_type": "markdown",
   "metadata": {},
   "source": [
    "# Оцениваем результат"
   ]
  },
  {
   "cell_type": "markdown",
   "metadata": {},
   "source": [
    "Обязательно отрисуйте 2 графика:\n",
    "- loss на обучающем и тестовом множесте\n",
    "- % правильно классифицированных примеров на тестовом и обучающем множестве"
   ]
  },
  {
   "cell_type": "markdown",
   "metadata": {},
   "source": [
    "Отрисовал во время обучения"
   ]
  },
  {
   "cell_type": "markdown",
   "metadata": {},
   "source": [
    "# Сохраняем данные для кагла"
   ]
  },
  {
   "cell_type": "markdown",
   "metadata": {},
   "source": [
    "https://www.kaggle.com/t/513ea517806348848dc78c4f41d44528"
   ]
  },
  {
   "cell_type": "markdown",
   "metadata": {},
   "source": [
    "Результат записывается в простой текстовый файл. Первая строчка \"Id,Prediction\", далее для каждого примера из валидационного множества записывается его Id (порядковый номер, с нуля) и вероятность принадлежности к классу '6', например '123,0.12'.\n",
    "\n",
    "Важно соблюдать тот же порядок следования элементов, что и в наборе данных. Нумерация id с 0"
   ]
  },
  {
   "cell_type": "code",
   "execution_count": 20,
   "metadata": {},
   "outputs": [],
   "source": [
    "#X = test_no_lables['data']\n",
    "Y_pred = lr.predict_proba(X_test)\n",
    "\n",
    "with open('solution.csv', 'w') as fout:\n",
    "    print(\"Id,Prediction\", file=fout)\n",
    "    for i in range(len(X_test)):\n",
    "        print(i, Y_pred[i], sep=',', file=fout)"
   ]
  },
  {
   "cell_type": "markdown",
   "metadata": {},
   "source": [
    "# Сдача"
   ]
  },
  {
   "cell_type": "markdown",
   "metadata": {},
   "source": [
    "1. Регистрируетесь на конкурс https://www.kaggle.com/t/34e77301ef914c5792e4f4306144a6b3 \n",
    "1. Преодолеваете \"Pass level\" baseline\n",
    "1. После того, как вы преодолеете baseline, присылайте ноутбук с решение по адресу **voropaev@corp.mail.ru**\n",
    "\n",
    "# Внимание\n",
    "- Тему письма писать в формате \"[МФТИ][1] Фамилия\"\n",
    "- Внутри писма прикрепляете файл ноутбука с именем <ваша фамилия>.ipynb"
   ]
  }
 ],
 "metadata": {
  "kernelspec": {
   "display_name": "Python 3",
   "language": "python",
   "name": "python3"
  },
  "language_info": {
   "codemirror_mode": {
    "name": "ipython",
    "version": 3
   },
   "file_extension": ".py",
   "mimetype": "text/x-python",
   "name": "python",
   "nbconvert_exporter": "python",
   "pygments_lexer": "ipython3",
   "version": "3.6.4"
  }
 },
 "nbformat": 4,
 "nbformat_minor": 2
}

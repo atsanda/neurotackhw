{
 "cells": [
  {
   "cell_type": "code",
   "execution_count": 1,
   "metadata": {},
   "outputs": [],
   "source": [
    "import numpy as np\n",
    "import matplotlib.pyplot as plt\n",
    "import pickle\n",
    "%matplotlib inline"
   ]
  },
  {
   "cell_type": "code",
   "execution_count": 2,
   "metadata": {},
   "outputs": [],
   "source": [
    "# класс one-hot encoder'а для MNIST\n",
    "class OneHotEncoder:\n",
    "    def __init__(self):\n",
    "        self.transform_mapping = np.zeros((10,10))\n",
    "        for i in range(self.transform_mapping.shape[0]):\n",
    "            self.transform_mapping[i][i] = 1.0\n",
    "    def transform(self, y):\n",
    "        return self.transform_mapping[int(y)]"
   ]
  },
  {
   "cell_type": "code",
   "execution_count": 3,
   "metadata": {},
   "outputs": [],
   "source": [
    "def make_submission(X_test, net, fname=\"my_submission.csv\"):\n",
    "    with open(fname,'w') as fout:\n",
    "        fout.write('Id,Category')\n",
    "        for i in range(X_test.shape[0]):\n",
    "            y_h = net.forward(X_test[i], train=False)\n",
    "            y = np.argmax(y_h)\n",
    "            fout.write(\"\\n{},{}\".format(i, int(y)))"
   ]
  },
  {
   "cell_type": "code",
   "execution_count": 4,
   "metadata": {},
   "outputs": [],
   "source": [
    "# внимание, тут Y_test в обычном формате(не onehot)\n",
    "def compute_acc(X_test, Y_test, net):\n",
    "    acc = 0.0\n",
    "    for i in range(X_test.shape[0]):\n",
    "        y_h = net.forward(X_test[i])\n",
    "        y = np.argmax(y_h)\n",
    "        if(y == Y_test[i]):\n",
    "            acc += 1.0\n",
    "    return acc / Y_test.shape[0]"
   ]
  },
  {
   "cell_type": "code",
   "execution_count": 5,
   "metadata": {},
   "outputs": [],
   "source": [
    "train_data = None\n",
    "test_data = None\n",
    "encoder = OneHotEncoder()\n",
    "with open('data_train.pickle','rb') as fin:\n",
    "    train_data = pickle.load(fin)\n",
    "with open('data_test_no_labels.pickle','rb') as fin:\n",
    "    test_data = pickle.load(fin)\n",
    "    \n",
    "X_train = train_data['data']\n",
    "Y_train = train_data['target']\n",
    "Y_train_oh = np.array(list(map(lambda x : encoder.transform(x), Y_train)))\n",
    "\n",
    "\n",
    "X_test = test_data['data']"
   ]
  },
  {
   "cell_type": "code",
   "execution_count": 6,
   "metadata": {},
   "outputs": [
    {
     "data": {
      "image/png": "[encoded data removed]",
      "text/plain": [
       "<Figure size 432x288 with 16 Axes>"
      ]
     },
     "metadata": {
      "needs_background": "light"
     },
     "output_type": "display_data"
    }
   ],
   "source": [
    "n=4\n",
    "for i in range(n*n):\n",
    "    plt.subplot(n,n,i+1)\n",
    "    I = train_data['data'][np.random.randint(0, X_train.shape[0]),:]\n",
    "    I = I.reshape((28, 28))\n",
    "    plt.imshow(I, cmap='gray')"
   ]
  },
  {
   "cell_type": "code",
   "execution_count": 7,
   "metadata": {},
   "outputs": [],
   "source": [
    "# Подготовка датасета\n",
    "from sklearn.model_selection import train_test_split\n",
    "from sklearn.preprocessing import StandardScaler\n",
    "from skimage.transform import rotate\n",
    "\n",
    "X_train = X_train.astype(np.float)\n",
    "X_test = X_test.astype(np.float)\n",
    "\n",
    "sc = StandardScaler()\n",
    "sc.fit(X_train)\n",
    "\n",
    "X_train = sc.transform(X_train)\n",
    "X_test = sc.transform(X_test)\n",
    "\n",
    "\n",
    "X_train_train, X_train_test, Y_train_train, Y_train_test = \\\n",
    "    train_test_split(X_train, Y_train_oh, test_size=0.2, stratify=Y_train)"
   ]
  },
  {
   "cell_type": "code",
   "execution_count": 8,
   "metadata": {},
   "outputs": [],
   "source": [
    "from skimage.transform import rotate\n",
    "\n",
    "augemented_X_train_train = []\n",
    "augemented_Y_train_train = []\n",
    "\n",
    "for i in range(len(X_train_train)):\n",
    "    augemented_X_train_train.append(X_train_train[i])\n",
    "    img = X_train_train[i].reshape((28, 28))\n",
    "    augemented_X_train_train.append(rotate(img, 15).flatten())\n",
    "    augemented_X_train_train.append(rotate(img, -15).flatten())\n",
    "    \n",
    "    augemented_Y_train_train.append(Y_train_train[i])\n",
    "    augemented_Y_train_train.append(Y_train_train[i])\n",
    "    augemented_Y_train_train.append(Y_train_train[i])\n",
    "    \n",
    "augemented_X_train_train = np.vstack(augemented_X_train_train)\n",
    "augemented_Y_train_train = np.vstack(augemented_Y_train_train)"
   ]
  },
  {
   "cell_type": "code",
   "execution_count": 9,
   "metadata": {},
   "outputs": [
    {
     "data": {
      "image/png": "[encoded data removed]",
      "text/plain": [
       "<Figure size 432x288 with 1 Axes>"
      ]
     },
     "metadata": {
      "needs_background": "light"
     },
     "output_type": "display_data"
    }
   ],
   "source": [
    "plt.hist(Y_train);"
   ]
  },
  {
   "cell_type": "code",
   "execution_count": 10,
   "metadata": {},
   "outputs": [],
   "source": [
    "class Dense:\n",
    "    def __init__(self, in_size, out_size, rlambda = 0.0):\n",
    "        self.W = np.random.normal(scale=1, size=(out_size, in_size)) * np.sqrt(2 / in_size)\n",
    "        self.b = np.zeros(out_size)\n",
    "        self.rlambda = rlambda\n",
    "        \n",
    "    def forward(self, x):\n",
    "        self.x = x # запоминаем для обратного прохода\n",
    "        return np.dot(self.W, x) + self.b\n",
    "    \n",
    "    def get_reg_loss(self):\n",
    "        return 0.5 * self.rlambda * (np.linalg.norm(self.W, ord='fro') ** 2)\n",
    "    \n",
    "    def backward(self, dz, lr=0.001):\n",
    "        # вычисляем градиенты по параметрам (запоминаем их для отладки)\n",
    "        self.dW = np.outer(dz, self.x)\n",
    "        self.db = dz\n",
    "        # вычисляем производную по входу\n",
    "        self.dx = np.matmul(dz, self.W) \n",
    "        # рассчитываем градиенты от регуляризатора\n",
    "        if(self.rlambda != 0):\n",
    "            self.dW += self.rlambda * self.W\n",
    "        # обновляем веса\n",
    "        self.W = self.W - lr * self.dW\n",
    "        self.b = self.b - lr * self.db\n",
    "        # возвращаем dx для продолжения алгоритма\n",
    "        return self.dx\n",
    "    \n",
    "    \n",
    "class ReLU:\n",
    "    \n",
    "    def forward(self, x):\n",
    "        self.x = x\n",
    "        return np.maximum(0, x)\n",
    "    \n",
    "    def backward(self, dz, lr=0.1):\n",
    "        dz[self.x < 0] = 0\n",
    "        return dz\n",
    "    \n",
    "    \n",
    "class Softmax:\n",
    "    \n",
    "    def forward(self, x):\n",
    "        self.x = x\n",
    "        _exp_x = np.exp(x)\n",
    "        return _exp_x / np.sum(_exp_x)\n",
    "        \n",
    "    def backward(self, dz, lr=0.001):\n",
    "        return (self.forward(self.x) * np.eye(len(self.x)) - \n",
    "                self.forward(self.x)[:, np.newaxis] @ self.forward(self.x)[np.newaxis, :]) @ dz\n",
    "    \n",
    "    \n",
    "class CrossEntropy:\n",
    "    \n",
    "    def forward(self, y_true, y_hat):\n",
    "        self.y_true = y_true\n",
    "        self.y_hat = y_hat\n",
    "        return - np.sum(y_true * np.log(y_hat))\n",
    "    \n",
    "    def backward(self, dz, lr=0.001):\n",
    "        return - self.y_true/self.y_hat * dz\n",
    "    \n",
    "    \n",
    "class Dropout:\n",
    "    def __init__(self, p = 0.5):\n",
    "        self.p = p\n",
    "    \n",
    "    def forward(self, x, train):\n",
    "        if not train:\n",
    "            self.mask = np.ones(*x.shape)\n",
    "            return x\n",
    "        self.mask = ( np.random.rand(*x.shape) > self.p ) / (1.0 - self.p)\n",
    "        return x * self.mask\n",
    "        \n",
    "    def backward(self, dz, lr=0.001):\n",
    "        return dz * self.mask"
   ]
  },
  {
   "cell_type": "code",
   "execution_count": 11,
   "metadata": {},
   "outputs": [],
   "source": [
    "# Опеределение самой сети\n",
    "class MnistNet:\n",
    "    \n",
    "    def __init__(self, rlambda=0.0):\n",
    "        self.d1 = Dense(784, 524, rlambda)\n",
    "        self.a1 = ReLU()\n",
    "        self.do1 = Dropout(.4)\n",
    "        self.d2 = Dense(524, 256, rlambda)\n",
    "        self.a2 = ReLU()\n",
    "        self.do2 = Dropout(.3)\n",
    "        self.d3 = Dense(256, 256, rlambda)\n",
    "        self.a3 = ReLU()\n",
    "        self.do3 = Dropout(.2)\n",
    "        self.d4 = Dense(256, 10, rlambda)\n",
    "        self.a4 = ReLU()\n",
    "        self.s = Softmax()\n",
    "    \n",
    "    def forward(self, x, train=True):\n",
    "        net = self.d1.forward(x)\n",
    "        net = self.a1.forward(net)\n",
    "        net = self.do1.forward(net, train)\n",
    "        net = self.d2.forward(net)\n",
    "        net = self.a2.forward(net)\n",
    "        net = self.do2.forward(net, train)\n",
    "        net = self.d3.forward(net)\n",
    "        net = self.a3.forward(net)\n",
    "        net = self.do3.forward(net, train)\n",
    "        net = self.d4.forward(net)\n",
    "        net = self.a4.forward(net)\n",
    "        net = self.s.forward(net)\n",
    "        return net\n",
    "    \n",
    "    def backward(self, dz, lr):\n",
    "        dz = self.s.backward(dz, lr)\n",
    "        dz = self.a4.backward(dz, lr)\n",
    "        dz = self.d4.backward(dz, lr)\n",
    "        dz = self.do3.backward(dz, lr)\n",
    "        dz = self.a3.backward(dz, lr)\n",
    "        dz = self.d3.backward(dz, lr)\n",
    "        dz = self.do2.backward(dz, lr)\n",
    "        dz = self.a2.backward(dz, lr)\n",
    "        dz = self.d2.backward(dz, lr)\n",
    "        dz = self.do1.backward(dz, lr)\n",
    "        dz = self.a1.backward(dz, lr)\n",
    "        dz = self.d1.backward(dz, lr)\n",
    "        return dz"
   ]
  },
  {
   "cell_type": "code",
   "execution_count": 12,
   "metadata": {},
   "outputs": [
    {
     "name": "stdout",
     "output_type": "stream",
     "text": [
      "Epoch#1 || Loss Train : 0.580 | Test : 0.179 || Accuracy Train : 0.819 | Test : 0.950\n",
      "Epoch#2 || Loss Train : 0.276 | Test : 0.137 || Accuracy Train : 0.919 | Test : 0.961\n",
      "Epoch#3 || Loss Train : 0.221 | Test : 0.114 || Accuracy Train : 0.933 | Test : 0.967\n",
      "Epoch#4 || Loss Train : 0.189 | Test : 0.104 || Accuracy Train : 0.943 | Test : 0.970\n",
      "Epoch#5 || Loss Train : 0.170 | Test : 0.096 || Accuracy Train : 0.950 | Test : 0.972\n",
      "Epoch#6 || Loss Train : 0.153 | Test : 0.092 || Accuracy Train : 0.953 | Test : 0.975\n",
      "Epoch#7 || Loss Train : 0.140 | Test : 0.093 || Accuracy Train : 0.958 | Test : 0.974\n",
      "Epoch#8 || Loss Train : 0.132 | Test : 0.088 || Accuracy Train : 0.960 | Test : 0.976\n",
      "Epoch#9 || Loss Train : 0.122 | Test : 0.082 || Accuracy Train : 0.962 | Test : 0.975\n",
      "Epoch#10 || Loss Train : 0.115 | Test : 0.076 || Accuracy Train : 0.965 | Test : 0.977\n",
      "Epoch#11 || Loss Train : 0.110 | Test : 0.076 || Accuracy Train : 0.966 | Test : 0.978\n",
      "Epoch#12 || Loss Train : 0.103 | Test : 0.074 || Accuracy Train : 0.968 | Test : 0.978\n",
      "Epoch#13 || Loss Train : 0.100 | Test : 0.070 || Accuracy Train : 0.969 | Test : 0.978\n",
      "Epoch#14 || Loss Train : 0.095 | Test : 0.081 || Accuracy Train : 0.971 | Test : 0.979\n",
      "Epoch#15 || Loss Train : 0.092 | Test : 0.075 || Accuracy Train : 0.972 | Test : 0.979\n",
      "Epoch#16 || Loss Train : 0.087 | Test : 0.075 || Accuracy Train : 0.973 | Test : 0.980\n",
      "Epoch#17 || Loss Train : 0.084 | Test : 0.076 || Accuracy Train : 0.974 | Test : 0.980\n",
      "Epoch#18 || Loss Train : 0.083 | Test : 0.077 || Accuracy Train : 0.974 | Test : 0.979\n",
      "Epoch#19 || Loss Train : 0.078 | Test : 0.076 || Accuracy Train : 0.975 | Test : 0.979\n",
      "Epoch#20 || Loss Train : 0.075 | Test : 0.071 || Accuracy Train : 0.976 | Test : 0.980\n",
      "Epoch#21 || Loss Train : 0.074 | Test : 0.071 || Accuracy Train : 0.977 | Test : 0.980\n",
      "Epoch#22 || Loss Train : 0.072 | Test : 0.069 || Accuracy Train : 0.977 | Test : 0.980\n",
      "Epoch#23 || Loss Train : 0.069 | Test : 0.074 || Accuracy Train : 0.978 | Test : 0.981\n",
      "Epoch#24 || Loss Train : 0.069 | Test : 0.072 || Accuracy Train : 0.978 | Test : 0.980\n",
      "Epoch#25 || Loss Train : 0.067 | Test : 0.074 || Accuracy Train : 0.979 | Test : 0.980\n"
     ]
    }
   ],
   "source": [
    "# Здесь процедура обучения\n",
    "net = MnistNet(0)\n",
    "loss = CrossEntropy()\n",
    "lr = 0.001\n",
    "L_train = []\n",
    "L_test = []\n",
    "acc_train = []\n",
    "acc_test = []\n",
    "for iter in range(25):\n",
    "    L_acc = 0.\n",
    "    acc_trn = 0.0\n",
    "    sh = list(range(augemented_X_train_train.shape[0])) # больше рандома богу рандома\n",
    "    np.random.shuffle(sh)\n",
    "    for i in range(augemented_X_train_train.shape[0]):\n",
    "        x = augemented_X_train_train[sh[i]]\n",
    "        y = augemented_Y_train_train[sh[i]]\n",
    "        y_h = net.forward(x)\n",
    "        L = loss.forward(y, y_h) #+ net.get_reg_loss()\n",
    "        L_acc += L \n",
    "        acc_trn += int(np.argmax(y_h) == np.argmax(y))\n",
    "        \n",
    "        dz = loss.backward(1, lr)\n",
    "        dz = net.backward(dz, lr)\n",
    "    L_acc /= augemented_Y_train_train.shape[0]\n",
    "    acc_trn /= augemented_Y_train_train.shape[0]\n",
    "    acc_train.append(acc_trn)\n",
    "    L_train.append(L_acc)\n",
    "    \n",
    "    acc_tst = 0.0\n",
    "    L_e_acc = 0.\n",
    "    for i in range(X_train_test.shape[0]):\n",
    "        x = X_train_test[i]\n",
    "        y = Y_train_test[i]\n",
    "        y_h = net.forward(x, train=False)\n",
    "        L = loss.forward(y, y_h) #+ net.get_reg_loss()\n",
    "        L_e_acc += L\n",
    "        acc_tst += int(np.argmax(y_h) == np.argmax(y))\n",
    "        \n",
    "    L_e_acc /= Y_train_test.shape[0]\n",
    "    acc_tst /= Y_train_test.shape[0]\n",
    "    L_test.append(L_e_acc)\n",
    "    acc_test.append(acc_tst)\n",
    "    print(\"Epoch#{} || Loss Train : {:.3f} | Test : {:.3f} || Accuracy Train : {:.3f} | Test : {:.3f}\".\n",
    "          format(iter+1, L_acc, L_e_acc, acc_trn, acc_tst))"
   ]
  },
  {
   "cell_type": "code",
   "execution_count": 13,
   "metadata": {},
   "outputs": [
    {
     "data": {
      "text/plain": [
       "[<matplotlib.lines.Line2D at 0x1cd0002c518>]"
      ]
     },
     "execution_count": 13,
     "metadata": {},
     "output_type": "execute_result"
    },
    {
     "data": {
      "image/png": "[encoded data removed]",
      "text/plain": [
       "<Figure size 432x288 with 1 Axes>"
      ]
     },
     "metadata": {
      "needs_background": "light"
     },
     "output_type": "display_data"
    }
   ],
   "source": [
    "# Здесь необходимо отрисовать графики CrossEntropyLoss для обучающей и валидационной выборок\n",
    "plt.plot(L_train, label='train')\n",
    "plt.plot(L_test, label='test')"
   ]
  },
  {
   "cell_type": "code",
   "execution_count": 14,
   "metadata": {},
   "outputs": [],
   "source": [
    "# формируем сабмишшен и заливаем его на kaggle\n",
    "make_submission(X_test, net)"
   ]
  },
  {
   "cell_type": "code",
   "execution_count": null,
   "metadata": {},
   "outputs": [],
   "source": []
  }
 ],
 "metadata": {
  "kernelspec": {
   "display_name": "Python 3",
   "language": "python",
   "name": "python3"
  },
  "language_info": {
   "codemirror_mode": {
    "name": "ipython",
    "version": 3
   },
   "file_extension": ".py",
   "mimetype": "text/x-python",
   "name": "python",
   "nbconvert_exporter": "python",
   "pygments_lexer": "ipython3",
   "version": "3.6.5"
  }
 },
 "nbformat": 4,
 "nbformat_minor": 2
}

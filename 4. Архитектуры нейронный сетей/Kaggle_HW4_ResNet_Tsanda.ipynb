{
 "cells": [
  {
   "cell_type": "code",
   "execution_count": 1,
   "metadata": {
    "colab": {},
    "colab_type": "code",
    "id": "D7IBizZ1UDEw"
   },
   "outputs": [],
   "source": [
    "import time\n",
    "\n",
    "import torch\n",
    "import torch.optim as optim\n",
    "\n",
    "import torch.nn as nn\n",
    "import torch.nn.functional as F\n",
    "\n",
    "from sklearn.metrics import accuracy_score\n",
    "\n",
    "import numpy as np\n",
    "import PIL\n",
    "import random\n",
    "from IPython.core.display import Image, display\n",
    "\n",
    "import matplotlib.pyplot as plt"
   ]
  },
  {
   "cell_type": "code",
   "execution_count": 2,
   "metadata": {
    "colab": {},
    "colab_type": "code",
    "id": "Mu8nF_Y08vEj"
   },
   "outputs": [],
   "source": [
    "#отключает warnings pytorch\n",
    "import warnings\n",
    "warnings.filterwarnings('ignore')"
   ]
  },
  {
   "cell_type": "code",
   "execution_count": 3,
   "metadata": {
    "colab": {},
    "colab_type": "code",
    "id": "8Ov-7o7eyJGB"
   },
   "outputs": [],
   "source": [
    "DEVICE_ID = 0\n",
    "DEVICE = torch.device('cuda:%d' % DEVICE_ID)\n",
    "torch.cuda.set_device(DEVICE_ID)\n",
    "\n",
    "### Для запуска без GPU раскомментировать и закоментировать код выше\n",
    "# DEVICE = torch.device('cpu')"
   ]
  },
  {
   "cell_type": "code",
   "execution_count": 4,
   "metadata": {
    "colab": {},
    "colab_type": "code",
    "id": "pQkqFyVFyUm0"
   },
   "outputs": [],
   "source": [
    "np.random.seed(100500)\n",
    "\n",
    "def data2image(data):\n",
    "    res = np.transpose(np.reshape(data ,(3, 32,32)), (1,2,0))\n",
    "    return PIL.Image.fromarray(np.uint8(res))\n",
    "\n",
    "def imshow(img):\n",
    "    if isinstance(img, torch.Tensor): img = img.numpy().astype('uint8')\n",
    "    plt.imshow(np.transpose(img, (1, 2, 0)))\n",
    "    \n",
    "def prediction2classes(output_var):\n",
    "    _, predicted = torch.max(output_var.data, 1)\n",
    "    predicted.squeeze_()\n",
    "    classes = predicted.tolist()\n",
    "    return classes\n",
    "\n",
    "def make_solution_pytorch(net, input_tensor, a_batch_size):\n",
    "    res = []\n",
    "    net = net.eval()\n",
    "    cur_pos = 0\n",
    "    while cur_pos <= len(input_tensor):\n",
    "        outputs = net(input_tensor[cur_pos:cur_pos+a_batch_size])\n",
    "        res += prediction2classes(outputs)\n",
    "        cur_pos += a_batch_size\n",
    "    return res\n",
    "\n",
    "def plot_images(images, cls_pred=None):\n",
    "    fig, axes = plt.subplots(3, 3)\n",
    "\n",
    "    for i, ax in enumerate(axes.flat):\n",
    "        # plot img\n",
    "        ax.imshow(images[i, :, :, :], interpolation='spline16')\n",
    "        ax.set_xticks([])\n",
    "        ax.set_yticks([])\n",
    "\n",
    "    plt.show()"
   ]
  },
  {
   "cell_type": "code",
   "execution_count": 5,
   "metadata": {},
   "outputs": [],
   "source": [
    "from torch.utils.data import Dataset, DataLoader, SubsetRandomSampler\n",
    "from torchvision import transforms, utils\n",
    "from PIL import Image\n",
    "\n",
    "class CifarDataset(Dataset):\n",
    "    def __init__(self, input_path, is_train=True, transform=None):\n",
    "                        \n",
    "        data = np.load(input_path)\n",
    "        if is_train: \n",
    "            self.Y, self.X = np.hsplit(data, [1]) \n",
    "            self.Y = [item[0] for item in self.Y]\n",
    "        else: \n",
    "            self.X = data\n",
    "            self.Y = None\n",
    "            \n",
    "        self.X = self.X.reshape((self.X.shape[0], 3, 32, 32))\n",
    "        self.X = self.X.transpose((0, 2, 3, 1)) #приводим к виду (N, H, W, C)\n",
    "        self.X = [Image.fromarray(img) for img in self.X]\n",
    "                \n",
    "        self.transform = transform\n",
    "\n",
    "    def __len__(self):\n",
    "        return len(self.X)\n",
    "\n",
    "    def __getitem__(self, idx):\n",
    "        \n",
    "        sample = self.X[idx]\n",
    "\n",
    "        if self.transform: sample = self.transform(sample)\n",
    "\n",
    "        if self.Y is None: return sample\n",
    "        else: return (sample, self.Y[idx])"
   ]
  },
  {
   "cell_type": "code",
   "execution_count": 6,
   "metadata": {
    "colab": {
     "base_uri": "https://localhost:8080/",
     "height": 34
    },
    "colab_type": "code",
    "executionInfo": {
     "elapsed": 3777,
     "status": "ok",
     "timestamp": 1553636779916,
     "user": {
      "displayName": "Артём Цанда",
      "photoUrl": "https://lh5.googleusercontent.com/-yXCKv_yb2rU/AAAAAAAAAAI/AAAAAAAAF-E/7Fw_Xb7cpec/s64/photo.jpg",
      "userId": "11026720405270935198"
     },
     "user_tz": -180
    },
    "id": "Mo_tFzOVwilF",
    "outputId": "4650eb79-e729-4448-fc23-7c239907326c"
   },
   "outputs": [
    {
     "name": "stdout",
     "output_type": "stream",
     "text": [
      "homework_4_no_classes.test.npy\tmy_solution.csv\r\n",
      "homework_4.train.npy\t\tmy_solution_lenet.csv\r\n"
     ]
    }
   ],
   "source": [
    "#тут папки с проблема должны быть заключены в \"\"\n",
    "PATH_OF_DATA= 'data/'\n",
    "!ls {PATH_OF_DATA}"
   ]
  },
  {
   "cell_type": "code",
   "execution_count": 7,
   "metadata": {
    "colab": {},
    "colab_type": "code",
    "id": "r-MYsKTfw2ZW"
   },
   "outputs": [],
   "source": [
    "#Тут папки с пробелами НЕ надо заключать в \"\"\n",
    "DATA_PATH  = 'data/'\n",
    "train_path = 'homework_4.train.npy'\n",
    "test_path  = 'homework_4_no_classes.test.npy'"
   ]
  },
  {
   "cell_type": "code",
   "execution_count": 8,
   "metadata": {
    "colab": {},
    "colab_type": "code",
    "id": "8gM30XxszmwA"
   },
   "outputs": [],
   "source": [
    "np_mean = np.mean([item[0].numpy() for item in CifarDataset(DATA_PATH + train_path, transform=transforms.ToTensor())], axis=(0,2,3))\n",
    "np_std = np.std([item[0].numpy() for item in CifarDataset(DATA_PATH + train_path, transform=transforms.ToTensor())], axis=(0,2,3))"
   ]
  },
  {
   "cell_type": "code",
   "execution_count": 9,
   "metadata": {
    "colab": {
     "base_uri": "https://localhost:8080/",
     "height": 34
    },
    "colab_type": "code",
    "executionInfo": {
     "elapsed": 1057,
     "status": "ok",
     "timestamp": 1553637065713,
     "user": {
      "displayName": "Артём Цанда",
      "photoUrl": "https://lh5.googleusercontent.com/-yXCKv_yb2rU/AAAAAAAAAAI/AAAAAAAAF-E/7Fw_Xb7cpec/s64/photo.jpg",
      "userId": "11026720405270935198"
     },
     "user_tz": -180
    },
    "id": "_35tkhs9zrpi",
    "outputId": "5fb2b6a6-2e11-4a64-949b-1e4ecc18be0c"
   },
   "outputs": [
    {
     "data": {
      "text/plain": [
       "(array([0.50760865, 0.48708203, 0.44149536], dtype=float32), (3,))"
      ]
     },
     "execution_count": 9,
     "metadata": {},
     "output_type": "execute_result"
    }
   ],
   "source": [
    "np_mean, np_mean.shape"
   ]
  },
  {
   "cell_type": "code",
   "execution_count": 10,
   "metadata": {
    "colab": {
     "base_uri": "https://localhost:8080/",
     "height": 34
    },
    "colab_type": "code",
    "executionInfo": {
     "elapsed": 1043,
     "status": "ok",
     "timestamp": 1553637068679,
     "user": {
      "displayName": "Артём Цанда",
      "photoUrl": "https://lh5.googleusercontent.com/-yXCKv_yb2rU/AAAAAAAAAAI/AAAAAAAAF-E/7Fw_Xb7cpec/s64/photo.jpg",
      "userId": "11026720405270935198"
     },
     "user_tz": -180
    },
    "id": "vUnHdWIDz0TB",
    "outputId": "0c4dca74-521c-4089-b4c1-6f1b110c894b"
   },
   "outputs": [
    {
     "data": {
      "text/plain": [
       "(array([0.26764476, 0.2567687 , 0.27647924], dtype=float32), (3,))"
      ]
     },
     "execution_count": 10,
     "metadata": {},
     "output_type": "execute_result"
    }
   ],
   "source": [
    "np_std, np_std.shape"
   ]
  },
  {
   "cell_type": "code",
   "execution_count": 11,
   "metadata": {
    "colab": {},
    "colab_type": "code",
    "id": "Rqv5HTGPz1UL"
   },
   "outputs": [],
   "source": [
    "cifar_transform_norm = transforms.Compose([\n",
    "    transforms.Pad(4),\n",
    "    transforms.RandomCrop(32),\n",
    "    transforms.RandomHorizontalFlip(),\n",
    "    transforms.ToTensor(),\n",
    "    transforms.Normalize(torch.FloatTensor(np_mean), torch.FloatTensor(np_std))\n",
    "]\n",
    ")\n",
    "\n",
    "cifar_test_transform_norm = transforms.Compose([    \n",
    "    transforms.ToTensor(),\n",
    "    transforms.Normalize(torch.FloatTensor(np_mean), torch.FloatTensor(np_std))\n",
    "]\n",
    ")"
   ]
  },
  {
   "cell_type": "code",
   "execution_count": 12,
   "metadata": {},
   "outputs": [],
   "source": [
    "def get_train_valid_loader(data_dir,\n",
    "                           batch_size,\n",
    "                           valid_size=0.1,\n",
    "                           shuffle=True,\n",
    "                           show_sample=True,\n",
    "                           num_workers=4,\n",
    "                           pin_memory=False):\n",
    "    error_msg = \"[!] valid_size should be in the range [0, 1].\"\n",
    "    assert ((valid_size >= 0) and (valid_size <= 1)), error_msg\n",
    "\n",
    "    # load the dataset\n",
    "    train_dataset = CifarDataset(\n",
    "        input_path=data_dir, is_train=True, transform=cifar_transform_norm,\n",
    "    )\n",
    "\n",
    "    valid_dataset = CifarDataset(\n",
    "        input_path=data_dir, is_train=True, transform=cifar_test_transform_norm,\n",
    "    )\n",
    "\n",
    "    num_train = len(train_dataset)\n",
    "    indices = list(range(num_train))\n",
    "    split = int(np.floor(valid_size * num_train))\n",
    "\n",
    "    if shuffle:\n",
    "        np.random.shuffle(indices)\n",
    "\n",
    "    train_idx, valid_idx = indices[split:], indices[:split]\n",
    "    train_sampler = SubsetRandomSampler(train_idx)\n",
    "    valid_sampler = SubsetRandomSampler(valid_idx)\n",
    "\n",
    "    train_loader = torch.utils.data.DataLoader(\n",
    "        train_dataset, batch_size=batch_size, sampler=train_sampler,\n",
    "        num_workers=num_workers, pin_memory=pin_memory,\n",
    "    )\n",
    "    valid_loader = torch.utils.data.DataLoader(\n",
    "        valid_dataset, batch_size=batch_size, sampler=valid_sampler,\n",
    "        num_workers=num_workers, pin_memory=pin_memory,\n",
    "    )\n",
    "\n",
    "    # visualize some images\n",
    "    if show_sample:\n",
    "        sample_loader = torch.utils.data.DataLoader(\n",
    "            train_dataset, batch_size=9, shuffle=shuffle,\n",
    "            num_workers=num_workers, pin_memory=pin_memory,\n",
    "        )\n",
    "        data_iter = iter(sample_loader)\n",
    "        images, labels = data_iter.next()\n",
    "        X = images.numpy().transpose([0, 2, 3, 1])\n",
    "        plot_images(X, labels)\n",
    "\n",
    "    return (train_loader, valid_loader)"
   ]
  },
  {
   "cell_type": "code",
   "execution_count": 13,
   "metadata": {},
   "outputs": [
    {
     "name": "stderr",
     "output_type": "stream",
     "text": [
      "Clipping input data to the valid range for imshow with RGB data ([0..1] for floats or [0..255] for integers).\n",
      "Clipping input data to the valid range for imshow with RGB data ([0..1] for floats or [0..255] for integers).\n",
      "Clipping input data to the valid range for imshow with RGB data ([0..1] for floats or [0..255] for integers).\n",
      "Clipping input data to the valid range for imshow with RGB data ([0..1] for floats or [0..255] for integers).\n",
      "Clipping input data to the valid range for imshow with RGB data ([0..1] for floats or [0..255] for integers).\n",
      "Clipping input data to the valid range for imshow with RGB data ([0..1] for floats or [0..255] for integers).\n",
      "Clipping input data to the valid range for imshow with RGB data ([0..1] for floats or [0..255] for integers).\n",
      "Clipping input data to the valid range for imshow with RGB data ([0..1] for floats or [0..255] for integers).\n",
      "Clipping input data to the valid range for imshow with RGB data ([0..1] for floats or [0..255] for integers).\n"
     ]
    },
    {
     "data": {
      "image/png": "[encoded data removed]",
      "text/plain": [
       "<Figure size 432x288 with 9 Axes>"
      ]
     },
     "metadata": {},
     "output_type": "display_data"
    }
   ],
   "source": [
    "train_loader, valid_loader = get_train_valid_loader(DATA_PATH + train_path, batch_size=128)"
   ]
  },
  {
   "cell_type": "code",
   "execution_count": 14,
   "metadata": {},
   "outputs": [],
   "source": [
    "dataset_test_norm = CifarDataset(DATA_PATH + test_path, is_train=False, transform=cifar_test_transform_norm)\n",
    "dataloader_test_norm = DataLoader(dataset_test_norm, batch_size=128, shuffle=False, num_workers=1)"
   ]
  },
  {
   "cell_type": "code",
   "execution_count": 15,
   "metadata": {
    "colab": {},
    "colab_type": "code",
    "id": "oJmzKcvRz8Pe"
   },
   "outputs": [],
   "source": [
    "def train_network(a_net, \n",
    "                  a_device,\n",
    "                  a_epochs=164,\n",
    "                  a_batch_size=128,\n",
    "                  a_lr=0.1):\n",
    "    \n",
    "    start_time = time.time()\n",
    "    train_acc, valid_acc = [], []\n",
    "    net = a_net.to(a_device)\n",
    "\n",
    "    criterion = nn.CrossEntropyLoss()\n",
    "    optimizer = None#torch.optim.SGD(a_net.parameters(), lr=a_lr, weight_decay=0.0001, momentum=0.9)\n",
    "\n",
    "    prev_epoch_time = start_time\n",
    "    for epoch in range(a_epochs):  # loop over the dataset multiple times\n",
    "        if epoch == 0:\n",
    "            optimizer = torch.optim.SGD(a_net.parameters(), lr=a_lr/10, weight_decay=0.0001, momentum=0.9)\n",
    "        elif epoch == 1:\n",
    "            optimizer = torch.optim.SGD(a_net.parameters(), lr=a_lr, weight_decay=0.0001, momentum=0.9)\n",
    "        elif epoch == 82:\n",
    "            optimizer = torch.optim.SGD(a_net.parameters(), lr=a_lr/10, weight_decay=0.0001, momentum=0.9) \n",
    "        elif epoch == 123:\n",
    "            optimizer = torch.optim.SGD(a_net.parameters(), lr=a_lr/100, weight_decay=0.0001, momentum=0.9) \n",
    "        \n",
    "        net = net.train()        \n",
    "        epoch_accuracy = 0.0\n",
    "        epoch_iters = 0\n",
    "        for item in train_loader:\n",
    "            \n",
    "            epoch_iters += 1\n",
    "\n",
    "            inputs = item[0].to(a_device)\n",
    "            labels = item[1].long().to(a_device)\n",
    "\n",
    "            # zero the parameter gradients\n",
    "            optimizer.zero_grad()\n",
    "\n",
    "            # forward + backward + optimize\n",
    "            outputs = net(inputs)\n",
    "            loss = criterion(outputs, labels)\n",
    "            loss.backward()\n",
    "            optimizer.step()\n",
    "            epoch_accuracy += accuracy_score(labels.cpu(), prediction2classes(outputs))\n",
    "\n",
    "        epoch_accuracy /= epoch_iters\n",
    "        train_acc.append(epoch_accuracy)\n",
    "        \n",
    "        net.eval()\n",
    "        epoch_accuracy = 0.0\n",
    "        epoch_iters = 0\n",
    "        for item in valid_loader:\n",
    "            \n",
    "            epoch_iters += 1\n",
    "\n",
    "            inputs = item[0].to(a_device)\n",
    "            labels = item[1].long().to(a_device)\n",
    "\n",
    "            # zero the parameter gradients\n",
    "            optimizer.zero_grad()\n",
    "\n",
    "            # forward + backward + optimize\n",
    "            outputs = net(inputs)\n",
    "            loss = criterion(outputs, labels)\n",
    "            epoch_accuracy += accuracy_score(labels.cpu(), prediction2classes(outputs))\n",
    "\n",
    "        epoch_accuracy /= epoch_iters\n",
    "        valid_acc.append(epoch_accuracy)\n",
    "        \n",
    "        \n",
    "        \n",
    "        print(\"Epoch \", epoch, ' | Train acc: ', round(train_acc[-1], 4), ' | Valid acc: ', round(valid_acc[-1], 4))\n",
    "        cur_epoch_time = time.time()\n",
    "        print('Epoch time : ', cur_epoch_time - prev_epoch_time )\n",
    "        prev_epoch_time = cur_epoch_time\n",
    "\n",
    "    print('Finished Training')\n",
    "    print(\"Total time : \", (time.time()-start_time))\n",
    "    \n",
    "    plt.plot(train_acc, label='Train')\n",
    "    plt.plot(valid_acc, label='Validation')\n",
    "    plt.legend()\n",
    "#     plt.grid()\n",
    "    plt.grid(c='grey')"
   ]
  },
  {
   "cell_type": "code",
   "execution_count": 16,
   "metadata": {},
   "outputs": [],
   "source": [
    "DOWNSAMPLE_COEF = 2\n",
    "\n",
    "def conv3x3(a_in_planes, a_out_planes, a_stride=1):\n",
    "    \"\"\"\n",
    "    Основной строительный блок конволюций для ResNet\n",
    "    Включает в себя padding=1 - чтобы размерность сохранялась после его применения\n",
    "    \"\"\"\n",
    "    return nn.Conv2d(a_in_planes, a_out_planes,  stride=a_stride,\n",
    "                     kernel_size=3, padding=1, bias=False)\n",
    "\n",
    "def x_downsample(a_in_channels):\n",
    "     return nn.Conv2d(a_in_channels, \n",
    "               a_in_channels*DOWNSAMPLE_COEF,\n",
    "               kernel_size=1,\n",
    "               stride=2,\n",
    "               bias=False)"
   ]
  },
  {
   "cell_type": "code",
   "execution_count": 17,
   "metadata": {
    "colab": {},
    "colab_type": "code",
    "id": "s-ecV9yX0G-o"
   },
   "outputs": [],
   "source": [
    "class CifarResidualBlock(nn.Module):\n",
    "    def __init__(self, a_in_channels, make_downsample=False, use_skip_connection=True, is_first=False):\n",
    "        super(CifarResidualBlock, self).__init__()\n",
    "        self.use_skip_connection = use_skip_connection\n",
    "        self.make_downsample = make_downsample\n",
    "        coef = DOWNSAMPLE_COEF if make_downsample else 1\n",
    "        \n",
    "        if make_downsample and use_skip_connection:\n",
    "            self.downsample = x_downsample(a_in_channels)\n",
    "\n",
    "        self.batchnorm1 = nn.BatchNorm2d(a_in_channels)\n",
    "        self.relu1 = nn.ReLU()\n",
    "        self.conv1 = conv3x3(a_in_channels, a_in_channels*coef, a_stride=coef)\n",
    "        self.dropout = nn.Dropout(p=.3)\n",
    "        self.batchnorm2 = nn.BatchNorm2d(a_in_channels*coef)\n",
    "        self.relu2 = nn.ReLU()\n",
    "        self.conv2 = conv3x3(a_in_channels*coef, a_in_channels*coef)\n",
    "            \n",
    "    def forward(self, x):\n",
    "        identity = self.relu1(self.batchnorm1(x))\n",
    "        if self.make_downsample and self.use_skip_connection:\n",
    "            identity = self.downsample(x)  \n",
    "        \n",
    "        out = self.batchnorm1(x)\n",
    "        out = self.relu1(out)    \n",
    "        out = self.conv1(out)\n",
    "        out = self.dropout(out)\n",
    "        out = self.batchnorm2(out)\n",
    "        out = self.relu2(out)\n",
    "        out = self.conv2(out)\n",
    "        \n",
    "        \n",
    "        if self.use_skip_connection:\n",
    "            out += identity\n",
    "            \n",
    "        return out"
   ]
  },
  {
   "cell_type": "code",
   "execution_count": 18,
   "metadata": {
    "colab": {},
    "colab_type": "code",
    "id": "zNxk8R0I0KZp"
   },
   "outputs": [],
   "source": [
    "class CifarResNet(nn.Module):\n",
    "    \n",
    "    def __init__(self, n=4, k=2):\n",
    "        super(CifarResNet, self).__init__()\n",
    "        \n",
    "        \n",
    "        self.features = nn.Sequential()\n",
    "        \n",
    "        self.features.add_module('conv3x3', conv3x3(3, 16*k))\n",
    "        for i in range(n):\n",
    "            self.features.add_module(f'res_block_1_{i}', CifarResidualBlock(16*k))\n",
    "\n",
    "        self.features.add_module(f'res_block_2_0', CifarResidualBlock(16*k, make_downsample=True))\n",
    "\n",
    "        for i in range(n-1):\n",
    "            self.features.add_module(f'res_block_2_{i+1}', CifarResidualBlock(32*k))\n",
    "\n",
    "        self.features.add_module(f'res_block_3_0', CifarResidualBlock(32*k, make_downsample=True))\n",
    "        for i in range(n-1):\n",
    "            self.features.add_module(f'res_block_3_{i+1}', CifarResidualBlock(64*k))\n",
    "            \n",
    "        self.global_avg_pooling = nn.AvgPool2d(kernel_size=8)\n",
    "        self.fc_classifier = nn.Linear(64*k, 100)\n",
    "        \n",
    "    def forward(self, x):\n",
    "        x = self.features(x)\n",
    "        x = self.global_avg_pooling(x)        \n",
    "        x = x.view((x.size()[0], -1))        \n",
    "        x = self.fc_classifier(x)        \n",
    "        return x"
   ]
  },
  {
   "cell_type": "code",
   "execution_count": 19,
   "metadata": {
    "colab": {},
    "colab_type": "code",
    "id": "rmCpF0-k--q2"
   },
   "outputs": [
    {
     "name": "stdout",
     "output_type": "stream",
     "text": [
      "Epoch  0  | Train acc:  0.0465  | Valid acc:  0.0668\n",
      "Epoch time :  24.197877883911133\n",
      "Epoch  1  | Train acc:  0.0903  | Valid acc:  0.1125\n",
      "Epoch time :  18.364163637161255\n",
      "Epoch  2  | Train acc:  0.1745  | Valid acc:  0.15\n",
      "Epoch time :  18.139216661453247\n",
      "Epoch  3  | Train acc:  0.2567  | Valid acc:  0.2461\n",
      "Epoch time :  17.579416513442993\n",
      "Epoch  4  | Train acc:  0.3283  | Valid acc:  0.2795\n",
      "Epoch time :  18.034003973007202\n",
      "Epoch  5  | Train acc:  0.3828  | Valid acc:  0.3297\n",
      "Epoch time :  18.36010193824768\n",
      "Epoch  6  | Train acc:  0.4267  | Valid acc:  0.3535\n",
      "Epoch time :  18.326202630996704\n",
      "Epoch  7  | Train acc:  0.4648  | Valid acc:  0.4307\n",
      "Epoch time :  17.7482852935791\n",
      "Epoch  8  | Train acc:  0.4914  | Valid acc:  0.4121\n",
      "Epoch time :  17.596043825149536\n",
      "Epoch  9  | Train acc:  0.5181  | Valid acc:  0.4924\n",
      "Epoch time :  17.770968437194824\n",
      "Epoch  10  | Train acc:  0.5332  | Valid acc:  0.4914\n",
      "Epoch time :  18.19763731956482\n",
      "Epoch  11  | Train acc:  0.5522  | Valid acc:  0.4869\n",
      "Epoch time :  17.862648487091064\n",
      "Epoch  12  | Train acc:  0.5654  | Valid acc:  0.4854\n",
      "Epoch time :  17.658171892166138\n",
      "Epoch  13  | Train acc:  0.5787  | Valid acc:  0.5102\n",
      "Epoch time :  18.13692855834961\n",
      "Epoch  14  | Train acc:  0.5954  | Valid acc:  0.5375\n",
      "Epoch time :  18.44260811805725\n",
      "Epoch  15  | Train acc:  0.6022  | Valid acc:  0.5469\n",
      "Epoch time :  18.022693634033203\n",
      "Epoch  16  | Train acc:  0.6111  | Valid acc:  0.5449\n",
      "Epoch time :  18.120814085006714\n",
      "Epoch  17  | Train acc:  0.622  | Valid acc:  0.5438\n",
      "Epoch time :  16.663225889205933\n",
      "Epoch  18  | Train acc:  0.6297  | Valid acc:  0.5582\n",
      "Epoch time :  14.114893436431885\n",
      "Epoch  19  | Train acc:  0.6383  | Valid acc:  0.5766\n",
      "Epoch time :  16.095704793930054\n",
      "Epoch  20  | Train acc:  0.6408  | Valid acc:  0.5684\n",
      "Epoch time :  18.343445777893066\n",
      "Epoch  21  | Train acc:  0.6501  | Valid acc:  0.5643\n",
      "Epoch time :  17.884583950042725\n",
      "Epoch  22  | Train acc:  0.6541  | Valid acc:  0.5676\n",
      "Epoch time :  17.594077825546265\n",
      "Epoch  23  | Train acc:  0.6606  | Valid acc:  0.5646\n",
      "Epoch time :  17.913990020751953\n",
      "Epoch  24  | Train acc:  0.6684  | Valid acc:  0.5826\n",
      "Epoch time :  18.11784863471985\n",
      "Epoch  25  | Train acc:  0.6719  | Valid acc:  0.5875\n",
      "Epoch time :  18.166125059127808\n",
      "Epoch  26  | Train acc:  0.6753  | Valid acc:  0.6002\n",
      "Epoch time :  17.98258662223816\n",
      "Epoch  27  | Train acc:  0.6806  | Valid acc:  0.5953\n",
      "Epoch time :  17.936832904815674\n",
      "Epoch  28  | Train acc:  0.6826  | Valid acc:  0.5883\n",
      "Epoch time :  18.07782292366028\n",
      "Epoch  29  | Train acc:  0.6899  | Valid acc:  0.5965\n",
      "Epoch time :  18.107052326202393\n",
      "Epoch  30  | Train acc:  0.6934  | Valid acc:  0.5971\n",
      "Epoch time :  17.833945989608765\n",
      "Epoch  31  | Train acc:  0.6915  | Valid acc:  0.6006\n",
      "Epoch time :  18.120373964309692\n",
      "Epoch  32  | Train acc:  0.7  | Valid acc:  0.6236\n",
      "Epoch time :  17.957398176193237\n",
      "Epoch  33  | Train acc:  0.6984  | Valid acc:  0.5883\n",
      "Epoch time :  18.07536768913269\n",
      "Epoch  34  | Train acc:  0.7057  | Valid acc:  0.6086\n",
      "Epoch time :  17.954893350601196\n",
      "Epoch  35  | Train acc:  0.7063  | Valid acc:  0.5541\n",
      "Epoch time :  18.40360927581787\n",
      "Epoch  36  | Train acc:  0.7086  | Valid acc:  0.5898\n",
      "Epoch time :  17.61136031150818\n",
      "Epoch  37  | Train acc:  0.7124  | Valid acc:  0.6193\n",
      "Epoch time :  18.081528902053833\n",
      "Epoch  38  | Train acc:  0.7114  | Valid acc:  0.5969\n",
      "Epoch time :  18.14509344100952\n",
      "Epoch  39  | Train acc:  0.7128  | Valid acc:  0.6121\n",
      "Epoch time :  18.152466297149658\n",
      "Epoch  40  | Train acc:  0.7156  | Valid acc:  0.5975\n",
      "Epoch time :  17.950034856796265\n",
      "Epoch  41  | Train acc:  0.7206  | Valid acc:  0.6037\n",
      "Epoch time :  18.064942836761475\n",
      "Epoch  42  | Train acc:  0.7213  | Valid acc:  0.6133\n",
      "Epoch time :  17.981331825256348\n",
      "Epoch  43  | Train acc:  0.7262  | Valid acc:  0.5906\n",
      "Epoch time :  18.314744234085083\n",
      "Epoch  44  | Train acc:  0.7245  | Valid acc:  0.6203\n",
      "Epoch time :  17.935080528259277\n",
      "Epoch  45  | Train acc:  0.7275  | Valid acc:  0.6086\n",
      "Epoch time :  17.759570598602295\n",
      "Epoch  46  | Train acc:  0.7287  | Valid acc:  0.6137\n",
      "Epoch time :  18.02496314048767\n",
      "Epoch  47  | Train acc:  0.7313  | Valid acc:  0.6246\n",
      "Epoch time :  18.208856344223022\n",
      "Epoch  48  | Train acc:  0.733  | Valid acc:  0.6189\n",
      "Epoch time :  18.16955828666687\n",
      "Epoch  49  | Train acc:  0.7372  | Valid acc:  0.6152\n",
      "Epoch time :  18.069504499435425\n",
      "Epoch  50  | Train acc:  0.7342  | Valid acc:  0.6121\n",
      "Epoch time :  17.592711925506592\n",
      "Epoch  51  | Train acc:  0.738  | Valid acc:  0.607\n",
      "Epoch time :  18.00541353225708\n",
      "Epoch  52  | Train acc:  0.7358  | Valid acc:  0.5799\n",
      "Epoch time :  18.10334610939026\n",
      "Epoch  53  | Train acc:  0.7395  | Valid acc:  0.6174\n",
      "Epoch time :  18.079355478286743\n",
      "Epoch  54  | Train acc:  0.7395  | Valid acc:  0.6193\n",
      "Epoch time :  17.859052181243896\n",
      "Epoch  55  | Train acc:  0.7394  | Valid acc:  0.6271\n",
      "Epoch time :  17.889093160629272\n",
      "Epoch  56  | Train acc:  0.7432  | Valid acc:  0.6229\n",
      "Epoch time :  18.062936067581177\n",
      "Epoch  57  | Train acc:  0.7448  | Valid acc:  0.6031\n",
      "Epoch time :  18.196820497512817\n",
      "Epoch  58  | Train acc:  0.7425  | Valid acc:  0.6098\n",
      "Epoch time :  18.015523195266724\n",
      "Epoch  59  | Train acc:  0.744  | Valid acc:  0.6244\n",
      "Epoch time :  17.54424810409546\n",
      "Epoch  60  | Train acc:  0.7504  | Valid acc:  0.6227\n",
      "Epoch time :  18.043580770492554\n",
      "Epoch  61  | Train acc:  0.7472  | Valid acc:  0.6209\n",
      "Epoch time :  18.44616937637329\n",
      "Epoch  62  | Train acc:  0.7503  | Valid acc:  0.5922\n",
      "Epoch time :  18.24782395362854\n",
      "Epoch  63  | Train acc:  0.7531  | Valid acc:  0.6158\n",
      "Epoch time :  17.775987148284912\n",
      "Epoch  64  | Train acc:  0.7563  | Valid acc:  0.6164\n",
      "Epoch time :  18.02377986907959\n",
      "Epoch  65  | Train acc:  0.7504  | Valid acc:  0.6021\n",
      "Epoch time :  18.23149847984314\n",
      "Epoch  66  | Train acc:  0.7523  | Valid acc:  0.6129\n",
      "Epoch time :  18.229825258255005\n",
      "Epoch  67  | Train acc:  0.7527  | Valid acc:  0.6281\n",
      "Epoch time :  18.13036823272705\n",
      "Epoch  68  | Train acc:  0.7514  | Valid acc:  0.6191\n",
      "Epoch time :  17.91560196876526\n",
      "Epoch  69  | Train acc:  0.756  | Valid acc:  0.6062\n",
      "Epoch time :  17.911173105239868\n",
      "Epoch  70  | Train acc:  0.7533  | Valid acc:  0.6111\n",
      "Epoch time :  18.052513599395752\n",
      "Epoch  71  | Train acc:  0.7602  | Valid acc:  0.6332\n",
      "Epoch time :  18.172460556030273\n",
      "Epoch  72  | Train acc:  0.7606  | Valid acc:  0.6246\n",
      "Epoch time :  18.060726404190063\n",
      "Epoch  73  | Train acc:  0.7595  | Valid acc:  0.6166\n",
      "Epoch time :  17.60624861717224\n",
      "Epoch  74  | Train acc:  0.7628  | Valid acc:  0.6295\n",
      "Epoch time :  18.188323736190796\n",
      "Epoch  75  | Train acc:  0.7625  | Valid acc:  0.6117\n",
      "Epoch time :  18.00094199180603\n",
      "Epoch  76  | Train acc:  0.7614  | Valid acc:  0.6352\n",
      "Epoch time :  18.018659353256226\n",
      "Epoch  77  | Train acc:  0.7613  | Valid acc:  0.6287\n",
      "Epoch time :  17.650575399398804\n",
      "Epoch  78  | Train acc:  0.7642  | Valid acc:  0.6057\n",
      "Epoch time :  17.87536311149597\n",
      "Epoch  79  | Train acc:  0.7677  | Valid acc:  0.6213\n",
      "Epoch time :  18.04165768623352\n",
      "Epoch  80  | Train acc:  0.7638  | Valid acc:  0.624\n",
      "Epoch time :  18.15138339996338\n",
      "Epoch  81  | Train acc:  0.7625  | Valid acc:  0.6174\n",
      "Epoch time :  17.99078917503357\n",
      "Epoch  82  | Train acc:  0.8386  | Valid acc:  0.6959\n",
      "Epoch time :  17.656733989715576\n",
      "Epoch  83  | Train acc:  0.8653  | Valid acc:  0.702\n",
      "Epoch time :  18.07484483718872\n",
      "Epoch  84  | Train acc:  0.8735  | Valid acc:  0.7043\n",
      "Epoch time :  18.235279083251953\n",
      "Epoch  85  | Train acc:  0.8801  | Valid acc:  0.7008\n",
      "Epoch time :  18.117156267166138\n",
      "Epoch  86  | Train acc:  0.8853  | Valid acc:  0.709\n",
      "Epoch time :  17.76228618621826\n",
      "Epoch  87  | Train acc:  0.8875  | Valid acc:  0.7045\n",
      "Epoch time :  16.79368782043457\n",
      "Epoch  88  | Train acc:  0.8909  | Valid acc:  0.7039\n",
      "Epoch time :  15.310993194580078\n",
      "Epoch  89  | Train acc:  0.8938  | Valid acc:  0.6998\n",
      "Epoch time :  17.591164350509644\n",
      "Epoch  90  | Train acc:  0.8936  | Valid acc:  0.7006\n",
      "Epoch time :  17.105180025100708\n",
      "Epoch  91  | Train acc:  0.8991  | Valid acc:  0.7066\n",
      "Epoch time :  16.91961407661438\n",
      "Epoch  92  | Train acc:  0.9  | Valid acc:  0.709\n",
      "Epoch time :  18.12988805770874\n",
      "Epoch  93  | Train acc:  0.9013  | Valid acc:  0.7025\n",
      "Epoch time :  13.724610328674316\n",
      "Epoch  94  | Train acc:  0.9035  | Valid acc:  0.702\n",
      "Epoch time :  18.343090057373047\n"
     ]
    },
    {
     "name": "stdout",
     "output_type": "stream",
     "text": [
      "Epoch  95  | Train acc:  0.9052  | Valid acc:  0.7037\n",
      "Epoch time :  14.704638004302979\n",
      "Epoch  96  | Train acc:  0.9061  | Valid acc:  0.7014\n",
      "Epoch time :  18.19565176963806\n",
      "Epoch  97  | Train acc:  0.9092  | Valid acc:  0.7068\n",
      "Epoch time :  14.410128355026245\n",
      "Epoch  98  | Train acc:  0.9081  | Valid acc:  0.6971\n",
      "Epoch time :  17.88682746887207\n",
      "Epoch  99  | Train acc:  0.9115  | Valid acc:  0.6941\n",
      "Epoch time :  12.937650203704834\n",
      "Epoch  100  | Train acc:  0.9123  | Valid acc:  0.6908\n",
      "Epoch time :  18.760639667510986\n",
      "Epoch  101  | Train acc:  0.914  | Valid acc:  0.6979\n",
      "Epoch time :  13.736581325531006\n",
      "Epoch  102  | Train acc:  0.9144  | Valid acc:  0.6951\n",
      "Epoch time :  18.711477756500244\n",
      "Epoch  103  | Train acc:  0.9177  | Valid acc:  0.6977\n",
      "Epoch time :  16.79881739616394\n",
      "Epoch  104  | Train acc:  0.9203  | Valid acc:  0.6975\n",
      "Epoch time :  17.50234293937683\n",
      "Epoch  105  | Train acc:  0.9198  | Valid acc:  0.6963\n",
      "Epoch time :  15.187850713729858\n",
      "Epoch  106  | Train acc:  0.92  | Valid acc:  0.7006\n",
      "Epoch time :  17.58527636528015\n",
      "Epoch  107  | Train acc:  0.9218  | Valid acc:  0.6934\n",
      "Epoch time :  12.896093130111694\n",
      "Epoch  108  | Train acc:  0.919  | Valid acc:  0.7057\n",
      "Epoch time :  14.938354253768921\n",
      "Epoch  109  | Train acc:  0.9221  | Valid acc:  0.6994\n",
      "Epoch time :  17.75644302368164\n",
      "Epoch  110  | Train acc:  0.9249  | Valid acc:  0.7002\n",
      "Epoch time :  12.39928936958313\n",
      "Epoch  111  | Train acc:  0.9237  | Valid acc:  0.6971\n",
      "Epoch time :  18.37943983078003\n",
      "Epoch  112  | Train acc:  0.9263  | Valid acc:  0.6949\n",
      "Epoch time :  15.475634098052979\n",
      "Epoch  113  | Train acc:  0.9259  | Valid acc:  0.6906\n",
      "Epoch time :  18.766536474227905\n",
      "Epoch  114  | Train acc:  0.9238  | Valid acc:  0.6965\n",
      "Epoch time :  15.931548118591309\n",
      "Epoch  115  | Train acc:  0.9264  | Valid acc:  0.6883\n",
      "Epoch time :  17.709811210632324\n",
      "Epoch  116  | Train acc:  0.9291  | Valid acc:  0.7002\n",
      "Epoch time :  16.270774841308594\n",
      "Epoch  117  | Train acc:  0.9283  | Valid acc:  0.7006\n",
      "Epoch time :  16.491392135620117\n",
      "Epoch  118  | Train acc:  0.926  | Valid acc:  0.6936\n",
      "Epoch time :  16.62231135368347\n",
      "Epoch  119  | Train acc:  0.9302  | Valid acc:  0.6986\n",
      "Epoch time :  16.255886554718018\n",
      "Epoch  120  | Train acc:  0.9297  | Valid acc:  0.6982\n",
      "Epoch time :  17.822718381881714\n",
      "Epoch  121  | Train acc:  0.928  | Valid acc:  0.7061\n",
      "Epoch time :  15.049972295761108\n",
      "Epoch  122  | Train acc:  0.9301  | Valid acc:  0.6934\n",
      "Epoch time :  15.097084760665894\n",
      "Epoch  123  | Train acc:  0.9379  | Valid acc:  0.7\n",
      "Epoch time :  17.80834197998047\n",
      "Epoch  124  | Train acc:  0.9419  | Valid acc:  0.7078\n",
      "Epoch time :  16.976641178131104\n",
      "Epoch  125  | Train acc:  0.9414  | Valid acc:  0.6932\n",
      "Epoch time :  15.715857028961182\n",
      "Epoch  126  | Train acc:  0.9439  | Valid acc:  0.699\n",
      "Epoch time :  12.716579914093018\n",
      "Epoch  127  | Train acc:  0.9442  | Valid acc:  0.708\n",
      "Epoch time :  16.953683376312256\n",
      "Epoch  128  | Train acc:  0.9448  | Valid acc:  0.7006\n",
      "Epoch time :  17.263033628463745\n",
      "Epoch  129  | Train acc:  0.9463  | Valid acc:  0.709\n",
      "Epoch time :  18.759188890457153\n",
      "Epoch  130  | Train acc:  0.946  | Valid acc:  0.7062\n",
      "Epoch time :  13.296541690826416\n",
      "Epoch  131  | Train acc:  0.9451  | Valid acc:  0.702\n",
      "Epoch time :  12.613420724868774\n",
      "Epoch  132  | Train acc:  0.9469  | Valid acc:  0.7037\n",
      "Epoch time :  18.40262198448181\n",
      "Epoch  133  | Train acc:  0.9441  | Valid acc:  0.7018\n",
      "Epoch time :  15.316454887390137\n",
      "Epoch  134  | Train acc:  0.9471  | Valid acc:  0.7066\n",
      "Epoch time :  18.543878316879272\n",
      "Epoch  135  | Train acc:  0.9455  | Valid acc:  0.7055\n",
      "Epoch time :  13.44459080696106\n",
      "Epoch  136  | Train acc:  0.945  | Valid acc:  0.7025\n",
      "Epoch time :  13.252018690109253\n",
      "Epoch  137  | Train acc:  0.9473  | Valid acc:  0.7002\n",
      "Epoch time :  18.628710746765137\n",
      "Epoch  138  | Train acc:  0.9471  | Valid acc:  0.701\n",
      "Epoch time :  13.390705585479736\n",
      "Epoch  139  | Train acc:  0.9469  | Valid acc:  0.7043\n",
      "Epoch time :  18.419917106628418\n",
      "Epoch  140  | Train acc:  0.9492  | Valid acc:  0.708\n",
      "Epoch time :  14.487460613250732\n",
      "Epoch  141  | Train acc:  0.947  | Valid acc:  0.7094\n",
      "Epoch time :  17.17733407020569\n",
      "Epoch  142  | Train acc:  0.9466  | Valid acc:  0.7096\n",
      "Epoch time :  16.07190442085266\n",
      "Epoch  143  | Train acc:  0.9468  | Valid acc:  0.6998\n",
      "Epoch time :  18.474120140075684\n",
      "Epoch  144  | Train acc:  0.9485  | Valid acc:  0.7004\n",
      "Epoch time :  17.11940336227417\n",
      "Epoch  145  | Train acc:  0.9489  | Valid acc:  0.7023\n",
      "Epoch time :  16.867064952850342\n",
      "Epoch  146  | Train acc:  0.948  | Valid acc:  0.7002\n",
      "Epoch time :  16.008901357650757\n",
      "Epoch  147  | Train acc:  0.9496  | Valid acc:  0.702\n",
      "Epoch time :  17.103841304779053\n",
      "Epoch  148  | Train acc:  0.9497  | Valid acc:  0.6979\n",
      "Epoch time :  14.748730897903442\n",
      "Epoch  149  | Train acc:  0.9466  | Valid acc:  0.7072\n",
      "Epoch time :  18.127763271331787\n",
      "Epoch  150  | Train acc:  0.949  | Valid acc:  0.7059\n",
      "Epoch time :  14.455900192260742\n",
      "Epoch  151  | Train acc:  0.948  | Valid acc:  0.7021\n",
      "Epoch time :  18.161848783493042\n",
      "Epoch  152  | Train acc:  0.9491  | Valid acc:  0.7035\n",
      "Epoch time :  15.069378137588501\n",
      "Epoch  153  | Train acc:  0.9503  | Valid acc:  0.7117\n",
      "Epoch time :  17.99829888343811\n",
      "Epoch  154  | Train acc:  0.9494  | Valid acc:  0.7033\n",
      "Epoch time :  18.55640721321106\n",
      "Epoch  155  | Train acc:  0.9492  | Valid acc:  0.707\n",
      "Epoch time :  14.231988668441772\n",
      "Epoch  156  | Train acc:  0.949  | Valid acc:  0.6992\n",
      "Epoch time :  16.739039182662964\n",
      "Epoch  157  | Train acc:  0.9479  | Valid acc:  0.7012\n",
      "Epoch time :  16.013694047927856\n",
      "Epoch  158  | Train acc:  0.9489  | Valid acc:  0.7066\n",
      "Epoch time :  14.57426905632019\n",
      "Epoch  159  | Train acc:  0.9495  | Valid acc:  0.7012\n",
      "Epoch time :  18.184176206588745\n",
      "Epoch  160  | Train acc:  0.9508  | Valid acc:  0.7045\n",
      "Epoch time :  17.50799870491028\n",
      "Epoch  161  | Train acc:  0.9511  | Valid acc:  0.7043\n",
      "Epoch time :  15.79144835472107\n",
      "Epoch  162  | Train acc:  0.9504  | Valid acc:  0.7006\n",
      "Epoch time :  18.799404621124268\n",
      "Epoch  163  | Train acc:  0.9492  | Valid acc:  0.7109\n",
      "Epoch time :  13.779789209365845\n",
      "Finished Training\n",
      "Total time :  2822.082659482956\n"
     ]
    },
    {
     "data": {
      "image/png": "[encoded data removed]",
      "text/plain": [
       "<Figure size 432x288 with 1 Axes>"
      ]
     },
     "metadata": {
      "needs_background": "light"
     },
     "output_type": "display_data"
    }
   ],
   "source": [
    "resnet = CifarResNet()\n",
    "train_network(resnet, torch.device(DEVICE))"
   ]
  },
  {
   "cell_type": "markdown",
   "metadata": {
    "colab_type": "text",
    "id": "GYLWE2Km_WHJ"
   },
   "source": [
    "# Важно переключить сеть в режим eval - иначе dropout будет работать некорректно"
   ]
  },
  {
   "cell_type": "code",
   "execution_count": 20,
   "metadata": {
    "colab": {},
    "colab_type": "code",
    "id": "_MzYqg_6_Ya1"
   },
   "outputs": [],
   "source": [
    "def make_solution(a_net, a_device):\n",
    "    res = []\n",
    "    net = a_net.eval()\n",
    "    for item in dataloader_test_norm:\n",
    "        inputs = item.to(a_device)\n",
    "        outputs = net(inputs) \n",
    "\n",
    "        res += prediction2classes(outputs)\n",
    "    return res"
   ]
  },
  {
   "cell_type": "code",
   "execution_count": 21,
   "metadata": {
    "colab": {
     "base_uri": "https://localhost:8080/",
     "height": 163
    },
    "colab_type": "code",
    "executionInfo": {
     "elapsed": 901,
     "status": "error",
     "timestamp": 1552553976759,
     "user": {
      "displayName": "Андрей Мурашев",
      "photoUrl": "https://lh4.googleusercontent.com/-wR3sAHpEUhs/AAAAAAAAAAI/AAAAAAAACpk/ug-Wf9D-_ZM/s64/photo.jpg",
      "userId": "12826447378304763709"
     },
     "user_tz": -180
    },
    "id": "iQSw5j8c_bf9",
    "outputId": "109e3847-d306-4ab7-8082-39fda63da264"
   },
   "outputs": [],
   "source": [
    "# my_solution = make_solution(dense_net, DEVICE)\n",
    "my_solution = make_solution(resnet, DEVICE)"
   ]
  },
  {
   "cell_type": "code",
   "execution_count": 22,
   "metadata": {
    "colab": {},
    "colab_type": "code",
    "id": "0OlzYS98_dVO"
   },
   "outputs": [],
   "source": [
    "file_name = DATA_PATH + 'my_solution.csv'\n",
    "\n",
    "with open(file_name, 'w') as fout:\n",
    "    print('Id', 'Prediction', sep=',', file=fout)\n",
    "    for i, prediction in enumerate(my_solution):\n",
    "        print(i, prediction, sep=',', file=fout)\n",
    "        \n",
    "# from google.colab import files\n",
    "# files.download(file_name)"
   ]
  },
  {
   "cell_type": "code",
   "execution_count": null,
   "metadata": {
    "colab": {},
    "colab_type": "code",
    "id": "JSzjX6Cj_gzZ"
   },
   "outputs": [],
   "source": []
  }
 ],
 "metadata": {
  "accelerator": "GPU",
  "colab": {
   "collapsed_sections": [],
   "name": "Copy of Kaggle_HW4_ResNet_py3.ipynb",
   "provenance": [
    {
     "file_id": "1gBJqo4o3aAqAtIOwPXvYkCBmMkPapHvK",
     "timestamp": 1553636497284
    },
    {
     "file_id": "1AfPHPwILwwyC9ooR_G6JjCzTyVa8S3dz",
     "timestamp": 1552509560314
    }
   ],
   "version": "0.3.2"
  },
  "kernelspec": {
   "display_name": "Python 3",
   "language": "python",
   "name": "python3"
  },
  "language_info": {
   "codemirror_mode": {
    "name": "ipython",
    "version": 3
   },
   "file_extension": ".py",
   "mimetype": "text/x-python",
   "name": "python",
   "nbconvert_exporter": "python",
   "pygments_lexer": "ipython3",
   "version": "3.6.5"
  }
 },
 "nbformat": 4,
 "nbformat_minor": 1
}
